{
 "cells": [
  {
   "cell_type": "code",
   "execution_count": 2,
   "metadata": {},
   "outputs": [
    {
     "name": "stderr",
     "output_type": "stream",
     "text": [
      "d:\\self learning\\anaconda3\\envs\\tf1.4.0\\lib\\site-packages\\tensorflow\\python\\framework\\dtypes.py:469: FutureWarning: Passing (type, 1) or '1type' as a synonym of type is deprecated; in a future version of numpy, it will be understood as (type, (1,)) / '(1,)type'.\n",
      "  _np_qint8 = np.dtype([(\"qint8\", np.int8, 1)])\n",
      "d:\\self learning\\anaconda3\\envs\\tf1.4.0\\lib\\site-packages\\tensorflow\\python\\framework\\dtypes.py:470: FutureWarning: Passing (type, 1) or '1type' as a synonym of type is deprecated; in a future version of numpy, it will be understood as (type, (1,)) / '(1,)type'.\n",
      "  _np_quint8 = np.dtype([(\"quint8\", np.uint8, 1)])\n",
      "d:\\self learning\\anaconda3\\envs\\tf1.4.0\\lib\\site-packages\\tensorflow\\python\\framework\\dtypes.py:471: FutureWarning: Passing (type, 1) or '1type' as a synonym of type is deprecated; in a future version of numpy, it will be understood as (type, (1,)) / '(1,)type'.\n",
      "  _np_qint16 = np.dtype([(\"qint16\", np.int16, 1)])\n",
      "d:\\self learning\\anaconda3\\envs\\tf1.4.0\\lib\\site-packages\\tensorflow\\python\\framework\\dtypes.py:472: FutureWarning: Passing (type, 1) or '1type' as a synonym of type is deprecated; in a future version of numpy, it will be understood as (type, (1,)) / '(1,)type'.\n",
      "  _np_quint16 = np.dtype([(\"quint16\", np.uint16, 1)])\n",
      "d:\\self learning\\anaconda3\\envs\\tf1.4.0\\lib\\site-packages\\tensorflow\\python\\framework\\dtypes.py:473: FutureWarning: Passing (type, 1) or '1type' as a synonym of type is deprecated; in a future version of numpy, it will be understood as (type, (1,)) / '(1,)type'.\n",
      "  _np_qint32 = np.dtype([(\"qint32\", np.int32, 1)])\n",
      "d:\\self learning\\anaconda3\\envs\\tf1.4.0\\lib\\site-packages\\tensorflow\\python\\framework\\dtypes.py:476: FutureWarning: Passing (type, 1) or '1type' as a synonym of type is deprecated; in a future version of numpy, it will be understood as (type, (1,)) / '(1,)type'.\n",
      "  np_resource = np.dtype([(\"resource\", np.ubyte, 1)])\n"
     ]
    },
    {
     "name": "stdout",
     "output_type": "stream",
     "text": [
      "All modules imported.\n"
     ]
    }
   ],
   "source": [
    "import os\n",
    "import pickle\n",
    "import math\n",
    "import random\n",
    "import csv\n",
    "from PIL import Image\n",
    "\n",
    "import matplotlib.pyplot as plt\n",
    "import cv2\n",
    "import numpy as np\n",
    "import tensorflow as tf\n",
    "import tensorflow.contrib.layers as layers\n",
    "from sklearn.utils import shuffle\n",
    "\n",
    "print('All modules imported.')"
   ]
  },
  {
   "cell_type": "markdown",
   "metadata": {},
   "source": [
    "# 1. Reload the preprocessed data"
   ]
  },
  {
   "cell_type": "code",
   "execution_count": 3,
   "metadata": {},
   "outputs": [
    {
     "name": "stdout",
     "output_type": "stream",
     "text": [
      "(34799, 32, 32, 3) (34799,)\n",
      "(4410, 32, 32, 3) (4410,)\n",
      "(12630, 32, 32, 3) (12630,)\n",
      "43\n",
      "Data loaded.\n"
     ]
    }
   ],
   "source": [
    "# 1 Reload the preprocessed data\n",
    "\n",
    "pickle_file = './pre-data.pickle'\n",
    "with open(pickle_file, 'rb') as f:\n",
    "    pickle_data = pickle.load(f)\n",
    "    X_train = pickle_data['train_features']\n",
    "    y_train = pickle_data['train_labels']\n",
    "    X_valid = pickle_data['valid_features']\n",
    "    y_valid = pickle_data['valid_labels']\n",
    "    X_test = pickle_data['test_features']\n",
    "    y_test = pickle_data['test_labels']\n",
    "    signnames = pickle_data['signnames']\n",
    "    del pickle_data  # Free up memory\n",
    "    \n",
    "# Shuffle the data set\n",
    "X_train, y_train = shuffle(X_train, y_train)\n",
    "X_valid, y_valid = shuffle(X_valid, y_valid)\n",
    "X_test, y_test = shuffle(X_test, y_test)\n",
    "\n",
    "print(X_train.shape, y_train.shape)\n",
    "print(X_valid.shape, y_valid.shape)\n",
    "print(X_test.shape, y_test.shape)\n",
    "print(len(signnames))\n",
    "print('Data loaded.')"
   ]
  },
  {
   "cell_type": "markdown",
   "metadata": {},
   "source": [
    "# 2. Model Architecture\n",
    "## 2.1 Inception model and GoogLeNet\n"
   ]
  },
  {
   "cell_type": "code",
   "execution_count": 4,
   "metadata": {},
   "outputs": [],
   "source": [
    "def Inception(inputs, conv11_size, conv33_11_size, conv33_size, conv55_11_size, conv55_size,pool11_size):\n",
    "        conv11 = layers.conv2d(inputs,conv11_size,[1,1])\n",
    "        conv33_reduce = layers.conv2d(inputs,conv33_11_size,[1,1])\n",
    "        conv33 = layers.conv2d(conv33_reduce, conv33_size,[3,3])\n",
    "        conv55_reduce = layers.conv2d(inputs,conv55_11_size,[1,1])\n",
    "        conv55 = layers.conv2d(conv55_reduce,conv55_size,[5,5])\n",
    "        pool_proj = layers.max_pool2d(inputs,[3,3],stride = 1, padding = 'SAME')\n",
    "        pool11 = layers.conv2d(pool_proj,pool11_size,[1,1])\n",
    "        return tf.concat([conv11,conv33,conv55,pool11],3)\n",
    "def GoogLeNet(inputs, dropout_keep_prob):\n",
    "    # inputs size: 32x32x3\n",
    "    conv1 = layers.conv2d(inputs,64,[3,3],stride = 2)  # 16x16x64\n",
    "    inception_2a = Inception(conv1,64,96,128,16,32,32) # 16x16x480\n",
    "    inception_2b = Inception(inception_2a,128,128,192,32,96,64) # 16x16x480\n",
    "    pool2 = layers.max_pool2d(inception_2b,[3,3]) # 7x7x480\n",
    "    inception_3a = Inception(pool2, 192,96,208,16,48,64)  # 7x7x512\n",
    "    inception_3b = Inception(inception_3a,160,112,224,24,64,64) # 7x7x512\n",
    "    pool3 = layers.max_pool2d(inception_3b,[3,3]) # 3x3x512\n",
    "    inception_4a = Inception(pool3,256,160,320,32,128,128)  # 3x3x832\n",
    "    inception_4b = Inception(inception_4a,384,192,384,48,128,128) # 3x3x1024\n",
    "    pool4 = layers.avg_pool2d(inception_4b,[3,3],stride = 1)\n",
    "    \n",
    "    reshape = tf.reshape(pool4,[-1,1024])\n",
    "    dropout = layers.dropout(reshape,dropout_keep_prob)\n",
    "    logits = layers.fully_connected(dropout,43,activation_fn=None)\n",
    "    return logits\n",
    "    \n",
    "    \n",
    "    "
   ]
  },
  {
   "cell_type": "markdown",
   "metadata": {},
   "source": [
    "# 3. Training\n",
    "## 3.1 Strategy \n"
   ]
  },
  {
   "cell_type": "code",
   "execution_count": 5,
   "metadata": {},
   "outputs": [],
   "source": [
    "# Placeholder\n",
    "x = tf.placeholder(tf.float32, (None, 32, 32, 3))\n",
    "y = tf.placeholder(tf.int32, (None))\n",
    "one_hot_y = tf.one_hot(y, 43)\n",
    "keep_prob = tf.placeholder_with_default(1.0, shape=())\n",
    "\n",
    "# Hyperparameters\n",
    "LEARNING_RATE = 4e-4\n",
    "EPOCHS = 35\n",
    "BATCH_SIZE = 128\n",
    "\n",
    "# Train method\n",
    "logits = GoogLeNet(x, keep_prob)\n",
    "cross_entropy = tf.nn.softmax_cross_entropy_with_logits(labels=one_hot_y, logits=logits)\n",
    "loss_op = tf.reduce_mean(cross_entropy)\n",
    "optimizer = tf.train.AdamOptimizer(learning_rate = LEARNING_RATE)\n",
    "train_op = optimizer.minimize(loss_op)"
   ]
  },
  {
   "cell_type": "markdown",
   "metadata": {},
   "source": [
    "## 3.2 Evaluation\n"
   ]
  },
  {
   "cell_type": "code",
   "execution_count": 6,
   "metadata": {},
   "outputs": [],
   "source": [
    "correct_prediction = tf.equal(tf.argmax(logits, 1), tf.argmax(one_hot_y, 1))\n",
    "accuracy_op = tf.reduce_mean(tf.cast(correct_prediction, tf.float32))\n",
    "\n",
    "def evaluate(X_data, y_data):\n",
    "    num_examples = len(X_data)\n",
    "    total_accuracy = 0\n",
    "    sess = tf.get_default_session()\n",
    "#     with tf.Session() as sess:\n",
    "#         sess.run(tf.global_variables_initializer())\n",
    "    for offset in range(0, num_examples, BATCH_SIZE):\n",
    "        batch_x, batch_y = X_data[offset:offset + BATCH_SIZE], y_data[offset:offset + BATCH_SIZE]\n",
    "        accuracy = sess.run(accuracy_op, feed_dict={x: batch_x, y: batch_y})\n",
    "        total_accuracy += (accuracy * len(batch_x))\n",
    "    return total_accuracy / num_examples"
   ]
  },
  {
   "cell_type": "markdown",
   "metadata": {},
   "source": [
    "## 3.3 Train the Model\n"
   ]
  },
  {
   "cell_type": "code",
   "execution_count": 8,
   "metadata": {},
   "outputs": [
    {
     "name": "stdout",
     "output_type": "stream",
     "text": [
      "Training...\n",
      "EPOCH 1 : Validation Accuracy = 0.421\n",
      "EPOCH 2 : Validation Accuracy = 0.849\n",
      "EPOCH 3 : Validation Accuracy = 0.898\n",
      "EPOCH 4 : Validation Accuracy = 0.945\n",
      "EPOCH 5 : Validation Accuracy = 0.955\n",
      "EPOCH 6 : Validation Accuracy = 0.962\n",
      "EPOCH 7 : Validation Accuracy = 0.933\n",
      "EPOCH 8 : Validation Accuracy = 0.948\n",
      "EPOCH 9 : Validation Accuracy = 0.971\n",
      "EPOCH 10 : Validation Accuracy = 0.958\n",
      "EPOCH 11 : Validation Accuracy = 0.975\n",
      "EPOCH 12 : Validation Accuracy = 0.978\n",
      "EPOCH 13 : Validation Accuracy = 0.976\n",
      "EPOCH 14 : Validation Accuracy = 0.977\n",
      "EPOCH 15 : Validation Accuracy = 0.967\n",
      "EPOCH 16 : Validation Accuracy = 0.961\n",
      "EPOCH 17 : Validation Accuracy = 0.979\n",
      "EPOCH 18 : Validation Accuracy = 0.973\n",
      "EPOCH 19 : Validation Accuracy = 0.977\n",
      "EPOCH 20 : Validation Accuracy = 0.978\n",
      "EPOCH 21 : Validation Accuracy = 0.981\n",
      "EPOCH 22 : Validation Accuracy = 0.975\n",
      "EPOCH 23 : Validation Accuracy = 0.961\n",
      "EPOCH 24 : Validation Accuracy = 0.977\n",
      "EPOCH 25 : Validation Accuracy = 0.982\n",
      "EPOCH 26 : Validation Accuracy = 0.975\n",
      "EPOCH 27 : Validation Accuracy = 0.978\n",
      "EPOCH 28 : Validation Accuracy = 0.974\n",
      "EPOCH 29 : Validation Accuracy = 0.982\n",
      "EPOCH 30 : Validation Accuracy = 0.978\n",
      "EPOCH 31 : Validation Accuracy = 0.961\n",
      "EPOCH 32 : Validation Accuracy = 0.979\n",
      "EPOCH 33 : Validation Accuracy = 0.980\n",
      "EPOCH 34 : Validation Accuracy = 0.980\n",
      "EPOCH 35 : Validation Accuracy = 0.987\n",
      "Model saved\n",
      "Wall time: 4h 29min 51s\n"
     ]
    }
   ],
   "source": [
    "%%time\n",
    "saver = tf.train.Saver()\n",
    "train_accuracy = []\n",
    "valid_accuracy = []\n",
    "with tf.Session() as sess:\n",
    "    sess.run(tf.global_variables_initializer())\n",
    "    num_examples = len(X_train)\n",
    "    print(\"Training...\")\n",
    "    for i in range(EPOCHS):\n",
    "        X_train, y_train = shuffle(X_train, y_train)\n",
    "        total_train_acc = 0\n",
    "        print(\"EPOCH {} :\".format(i+1), end=' ')\n",
    "        for offset in range(0, num_examples, BATCH_SIZE):\n",
    "            end = offset + BATCH_SIZE\n",
    "            batch_x, batch_y = X_train[offset:end], y_train[offset:end]\n",
    "            _, train_acc = sess.run([train_op, accuracy_op], feed_dict={x: batch_x, y: batch_y, keep_prob: 0.5})\n",
    "            total_train_acc += (train_acc * len(batch_x))\n",
    "        train_accuracy.append(total_train_acc / num_examples)\n",
    "        valid_acc = evaluate(X_valid, y_valid)\n",
    "        valid_accuracy.append(valid_acc)\n",
    "        print(\"Validation Accuracy = {:.3f}\".format(valid_acc))\n",
    "        \n",
    "    saver.save(sess, './model/googlenet.ckpt')\n",
    "    print(\"Model saved\")"
   ]
  },
  {
   "cell_type": "code",
   "execution_count": 9,
   "metadata": {},
   "outputs": [
    {
     "data": {
      "image/png": "[encoded data removed]",
      "text/plain": [
       "<Figure size 1080x1080 with 1 Axes>"
      ]
     },
     "metadata": {
      "needs_background": "light"
     },
     "output_type": "display_data"
    }
   ],
   "source": [
    "plt.subplot(2, 1, 2)\n",
    "plt.plot(train_accuracy, label='train')\n",
    "plt.plot(valid_accuracy, label='valid')\n",
    "plt.title('Accuracy history')\n",
    "plt.xlabel('Epoch')\n",
    "plt.ylabel('Loss')\n",
    "plt.gcf().set_size_inches(15, 15)\n",
    "plt.legend()\n",
    "plt.show()"
   ]
  },
  {
   "cell_type": "markdown",
   "metadata": {},
   "source": [
    "# 4. Testing\n",
    "## 4.1 Test the model on testing dataset\n"
   ]
  },
  {
   "cell_type": "code",
   "execution_count": 10,
   "metadata": {},
   "outputs": [
    {
     "name": "stdout",
     "output_type": "stream",
     "text": [
      "INFO:tensorflow:Restoring parameters from ./model/googlenet.ckpt\n"
     ]
    }
   ],
   "source": [
    "\n",
    "saver = tf.train.import_meta_graph('./model/googlenet.ckpt.meta')\n",
    "with tf.Session() as sess:\n",
    "    saver.restore(sess, './model/googlenet.ckpt')"
   ]
  },
  {
   "cell_type": "code",
   "execution_count": 11,
   "metadata": {},
   "outputs": [
    {
     "name": "stdout",
     "output_type": "stream",
     "text": [
      "INFO:tensorflow:Restoring parameters from ./model/googlenet.ckpt\n"
     ]
    },
    {
     "data": {
      "image/png": "[encoded data removed]",
      "text/plain": [
       "<Figure size 432x288 with 1 Axes>"
      ]
     },
     "metadata": {
      "needs_background": "light"
     },
     "output_type": "display_data"
    }
   ],
   "source": [
    "with tf.Session() as sess:\n",
    "    saver.restore(sess, './model/googlenet.ckpt')\n",
    "#     sess.run(tf.global_variables_initializer())\n",
    "    train_accuracy = evaluate(X_train, y_train)\n",
    "    valid_accuracy = evaluate(X_valid, y_valid)\n",
    "    test_accuracy = evaluate(X_test, y_test)\n",
    "    \n",
    "accuracys = [train_accuracy, valid_accuracy, test_accuracy]\n",
    "tick_labels = [\"training set\", \"validation set\", \"testing set\"]\n",
    "plt.bar(range(3), accuracys)\n",
    "plt.xlabel('data set')\n",
    "plt.ylabel('accuracy')\n",
    "plt.xticks(range(3), tick_labels)\n",
    "for x_,y_ in zip(range(3), accuracys):\n",
    "    plt.text(x_ - 0.1, y_, '%.3f'%y_)\n",
    "plt.show()"
   ]
  }
 ],
 "metadata": {
  "kernelspec": {
   "display_name": "Python 3",
   "language": "python",
   "name": "python3"
  },
  "language_info": {
   "codemirror_mode": {
    "name": "ipython",
    "version": 3
   },
   "file_extension": ".py",
   "mimetype": "text/x-python",
   "name": "python",
   "nbconvert_exporter": "python",
   "pygments_lexer": "ipython3",
   "version": "3.6.10"
  }
 },
 "nbformat": 4,
 "nbformat_minor": 4
}
