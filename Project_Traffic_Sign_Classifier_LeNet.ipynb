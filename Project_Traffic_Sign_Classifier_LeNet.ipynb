{
 "cells": [
  {
   "cell_type": "code",
   "execution_count": 1,
   "metadata": {},
   "outputs": [
    {
     "name": "stderr",
     "output_type": "stream",
     "text": [
      "d:\\self learning\\anaconda3\\envs\\tf1.4.0\\lib\\site-packages\\tensorflow\\python\\framework\\dtypes.py:469: FutureWarning: Passing (type, 1) or '1type' as a synonym of type is deprecated; in a future version of numpy, it will be understood as (type, (1,)) / '(1,)type'.\n",
      "  _np_qint8 = np.dtype([(\"qint8\", np.int8, 1)])\n",
      "d:\\self learning\\anaconda3\\envs\\tf1.4.0\\lib\\site-packages\\tensorflow\\python\\framework\\dtypes.py:470: FutureWarning: Passing (type, 1) or '1type' as a synonym of type is deprecated; in a future version of numpy, it will be understood as (type, (1,)) / '(1,)type'.\n",
      "  _np_quint8 = np.dtype([(\"quint8\", np.uint8, 1)])\n",
      "d:\\self learning\\anaconda3\\envs\\tf1.4.0\\lib\\site-packages\\tensorflow\\python\\framework\\dtypes.py:471: FutureWarning: Passing (type, 1) or '1type' as a synonym of type is deprecated; in a future version of numpy, it will be understood as (type, (1,)) / '(1,)type'.\n",
      "  _np_qint16 = np.dtype([(\"qint16\", np.int16, 1)])\n",
      "d:\\self learning\\anaconda3\\envs\\tf1.4.0\\lib\\site-packages\\tensorflow\\python\\framework\\dtypes.py:472: FutureWarning: Passing (type, 1) or '1type' as a synonym of type is deprecated; in a future version of numpy, it will be understood as (type, (1,)) / '(1,)type'.\n",
      "  _np_quint16 = np.dtype([(\"quint16\", np.uint16, 1)])\n",
      "d:\\self learning\\anaconda3\\envs\\tf1.4.0\\lib\\site-packages\\tensorflow\\python\\framework\\dtypes.py:473: FutureWarning: Passing (type, 1) or '1type' as a synonym of type is deprecated; in a future version of numpy, it will be understood as (type, (1,)) / '(1,)type'.\n",
      "  _np_qint32 = np.dtype([(\"qint32\", np.int32, 1)])\n",
      "d:\\self learning\\anaconda3\\envs\\tf1.4.0\\lib\\site-packages\\tensorflow\\python\\framework\\dtypes.py:476: FutureWarning: Passing (type, 1) or '1type' as a synonym of type is deprecated; in a future version of numpy, it will be understood as (type, (1,)) / '(1,)type'.\n",
      "  np_resource = np.dtype([(\"resource\", np.ubyte, 1)])\n"
     ]
    },
    {
     "name": "stdout",
     "output_type": "stream",
     "text": [
      "All modules imported.\n"
     ]
    }
   ],
   "source": [
    "import os\n",
    "import pickle\n",
    "import math\n",
    "import random\n",
    "import csv\n",
    "from PIL import Image\n",
    "\n",
    "import matplotlib.pyplot as plt\n",
    "import cv2\n",
    "import numpy as np\n",
    "import tensorflow as tf\n",
    "from sklearn.utils import shuffle\n",
    "from tensorflow.contrib.layers import flatten\n",
    "\n",
    "print('All modules imported.')"
   ]
  },
  {
   "cell_type": "markdown",
   "metadata": {},
   "source": [
    "# 1. Reload the preprocessed data"
   ]
  },
  {
   "cell_type": "code",
   "execution_count": 2,
   "metadata": {},
   "outputs": [
    {
     "name": "stdout",
     "output_type": "stream",
     "text": [
      "(34799, 32, 32, 3) (34799,)\n",
      "(4410, 32, 32, 3) (4410,)\n",
      "(12630, 32, 32, 3) (12630,)\n",
      "43\n",
      "Data loaded.\n"
     ]
    }
   ],
   "source": [
    "# 1 Reload the preprocessed data\n",
    "\n",
    "pickle_file = './pre-data.pickle'\n",
    "with open(pickle_file, 'rb') as f:\n",
    "    pickle_data = pickle.load(f)\n",
    "    X_train = pickle_data['train_features']\n",
    "    y_train = pickle_data['train_labels']\n",
    "    X_valid = pickle_data['valid_features']\n",
    "    y_valid = pickle_data['valid_labels']\n",
    "    X_test = pickle_data['test_features']\n",
    "    y_test = pickle_data['test_labels']\n",
    "    signnames = pickle_data['signnames']\n",
    "    del pickle_data  # Free up memory\n",
    "    \n",
    "# Shuffle the data set\n",
    "X_train, y_train = shuffle(X_train, y_train)\n",
    "X_valid, y_valid = shuffle(X_valid, y_valid)\n",
    "X_test, y_test = shuffle(X_test, y_test)\n",
    "\n",
    "print(X_train.shape, y_train.shape)\n",
    "print(X_valid.shape, y_valid.shape)\n",
    "print(X_test.shape, y_test.shape)\n",
    "print(len(signnames))\n",
    "print('Data loaded.')"
   ]
  },
  {
   "cell_type": "markdown",
   "metadata": {},
   "source": [
    "# 2. LeNet Architecture \n"
   ]
  },
  {
   "cell_type": "code",
   "execution_count": 3,
   "metadata": {},
   "outputs": [],
   "source": [
    "def LeNet(x,KEEP_PROB):\n",
    "    '''\n",
    "    Arguments used for tf.truncated_normal, randomly defines variables for the weights and bias\n",
    "    for each layer\n",
    "    '''\n",
    "    mu = 0\n",
    "    sigma = 0.1\n",
    "    \n",
    "    # Layer 1: Input = 32x32x3. Output = 28x28x6\n",
    "    # Convolutional\n",
    "    conv1_w = tf.Variable(tf.truncated_normal((5,5,3,6),mu,sigma))\n",
    "    conv1_b = tf.Variable(tf.zeros(6))\n",
    "    conv1 = tf.nn.conv2d(x,conv1_w,[1,1,1,1],'VALID') + conv1_b\n",
    "    # Activation\n",
    "    conv1 = tf.nn.relu(conv1)\n",
    "    # Pooling. Input = 28x28x6, output = 14x14x6\n",
    "    pool1 = tf.nn.max_pool(conv1,[1,2,2,1],[1,2,2,1],'VALID')\n",
    "    \n",
    "    # Layer2: Input = 14x14x6, output = 10x10x16\n",
    "    # Convolutional\n",
    "    conv2_w = tf.Variable(tf.truncated_normal((5,5,6,16),mu,sigma))\n",
    "    conv2_b = tf.Variable(tf.zeros(16))\n",
    "    conv2 = tf.nn.conv2d(pool1,conv2_w,[1,1,1,1],'VALID') + conv2_b\n",
    "    # Activation\n",
    "    conv2 = tf.nn.relu(conv2)\n",
    "    # Pooling. Input = 10x10x16, output = 5x5x16\n",
    "    pool2 = tf.nn.max_pool(conv2,[1,2,2,1],[1,2,2,1], 'VALID')\n",
    "    \n",
    "    # Flatten, Input = 5x5x16, output = 400\n",
    "    flat = flatten(pool2)\n",
    "    \n",
    "    # Layer 3: Input = 400, Output = 120\n",
    "    # Fully connected layer\n",
    "    full1_w = tf.Variable(tf.truncated_normal((400,120),mu,sigma))\n",
    "    full1_b = tf.Variable(tf.zeros(120))\n",
    "    full1 = tf.matmul(flat,full1_w) + full1_b\n",
    "    # Activation\n",
    "    full1 = tf.nn.relu(full1)\n",
    "    # Dropout\n",
    "    full1 = tf.nn.dropout(full1, KEEP_PROB)\n",
    "    \n",
    "    # Layer 4: Input = 120, output = 84\n",
    "    full2_w = tf.Variable(tf.truncated_normal((120,84),mu,sigma))\n",
    "    full2_b = tf.Variable(tf.zeros(84))\n",
    "    full2 = tf.matmul(full1,full2_w) + full2_b\n",
    "    # Activation\n",
    "    full2 = tf.nn.relu(full2)\n",
    "    # Dropout\n",
    "    full2 = tf.nn.dropout(full2,KEEP_PROB)\n",
    "    \n",
    "    # Layer 5: Fully Connected, Input = 84, output = 43\n",
    "    full3_w = tf.Variable(tf.truncated_normal((84,43),mu,sigma))\n",
    "    full3_b = tf.Variable(tf.zeros(43))\n",
    "    logits = tf.matmul(full2,full3_w) + full3_b\n",
    "    \n",
    "    return logits"
   ]
  },
  {
   "cell_type": "markdown",
   "metadata": {},
   "source": [
    "# 3. Training\n",
    "\n",
    "\n",
    "## 3.1 Strategy"
   ]
  },
  {
   "cell_type": "code",
   "execution_count": 4,
   "metadata": {},
   "outputs": [],
   "source": [
    "# Placeholder\n",
    "x = tf.placeholder(tf.float32, (None, 32, 32, 3))\n",
    "y = tf.placeholder(tf.int32, (None))\n",
    "one_hot_y = tf.one_hot(y, 43)\n",
    "keep_prob = tf.placeholder_with_default(1.0, shape=())\n",
    "\n",
    "# Hyperparameter \n",
    "LEARNING_RATE = 1e-2\n",
    "EPOCHS = 50\n",
    "BATCH_SIZE = 16\n",
    "\n",
    "# Train method \n",
    "logits = LeNet(x,keep_prob)\n",
    "cross_entropy = tf.nn.softmax_cross_entropy_with_logits(labels = one_hot_y,logits = logits)\n",
    "loss_operation = tf.reduce_mean(cross_entropy)\n",
    "optimizer = tf.train.GradientDescentOptimizer(learning_rate = LEARNING_RATE)\n",
    "training_operation = optimizer.minimize(loss_operation)"
   ]
  },
  {
   "cell_type": "markdown",
   "metadata": {},
   "source": [
    "## 3.2 Evaluation\n",
    "\n"
   ]
  },
  {
   "cell_type": "code",
   "execution_count": 5,
   "metadata": {},
   "outputs": [],
   "source": [
    "correct_prediction = tf.equal(tf.argmax(logits, 1), tf.argmax(one_hot_y, 1))\n",
    "accuracy_operation = tf.reduce_mean(tf.cast(correct_prediction, tf.float32))\n",
    "\n",
    "def evaluate(X_data, y_data):\n",
    "    num_examples = len(X_data)\n",
    "    total_accuracy = 0\n",
    "    sess = tf.get_default_session()\n",
    "    for offset in range(0, num_examples, BATCH_SIZE):\n",
    "        batch_x, batch_y = X_data[offset:offset + BATCH_SIZE], y_data[offset:offset + BATCH_SIZE]\n",
    "        accuracy, loss = sess.run([accuracy_operation, loss_operation], feed_dict={x: batch_x, y: batch_y})\n",
    "        total_accuracy += (accuracy * len(batch_x))\n",
    "    return total_accuracy / num_examples, loss"
   ]
  },
  {
   "cell_type": "markdown",
   "metadata": {},
   "source": [
    "## 3.3 Train the model \n",
    "\n",
    "A validation set can be used to assess how well the model is performing. A low accuracy on the training and validation sets imply underfitting. A high accuracy on the training set but low accuracy on the validation set implies overfitting. The optimizer used is mini-batch gradient descent, each select a sub batch of all the training data."
   ]
  },
  {
   "cell_type": "code",
   "execution_count": 6,
   "metadata": {},
   "outputs": [
    {
     "name": "stdout",
     "output_type": "stream",
     "text": [
      "Training...\n",
      "EPOCH 1 : Validation Accuracy = 0.401\n",
      "EPOCH 2 : Validation Accuracy = 0.578\n",
      "EPOCH 3 : Validation Accuracy = 0.702\n",
      "EPOCH 4 : Validation Accuracy = 0.779\n",
      "EPOCH 5 : Validation Accuracy = 0.819\n",
      "EPOCH 6 : Validation Accuracy = 0.854\n",
      "EPOCH 7 : Validation Accuracy = 0.878\n",
      "EPOCH 8 : Validation Accuracy = 0.900\n",
      "EPOCH 9 : Validation Accuracy = 0.915\n",
      "EPOCH 10 : Validation Accuracy = 0.912\n",
      "EPOCH 11 : Validation Accuracy = 0.922\n",
      "EPOCH 12 : Validation Accuracy = 0.927\n",
      "EPOCH 13 : Validation Accuracy = 0.942\n",
      "EPOCH 14 : Validation Accuracy = 0.943\n",
      "EPOCH 15 : Validation Accuracy = 0.942\n",
      "EPOCH 16 : Validation Accuracy = 0.937\n",
      "EPOCH 17 : Validation Accuracy = 0.940\n",
      "EPOCH 18 : Validation Accuracy = 0.944\n",
      "EPOCH 19 : Validation Accuracy = 0.948\n",
      "EPOCH 20 : Validation Accuracy = 0.945\n",
      "EPOCH 21 : Validation Accuracy = 0.952\n",
      "EPOCH 22 : Validation Accuracy = 0.953\n",
      "EPOCH 23 : Validation Accuracy = 0.948\n",
      "EPOCH 24 : Validation Accuracy = 0.946\n",
      "EPOCH 25 : Validation Accuracy = 0.955\n",
      "EPOCH 26 : Validation Accuracy = 0.951\n",
      "EPOCH 27 : Validation Accuracy = 0.955\n",
      "EPOCH 28 : Validation Accuracy = 0.953\n",
      "EPOCH 29 : Validation Accuracy = 0.954\n",
      "EPOCH 30 : Validation Accuracy = 0.946\n",
      "EPOCH 31 : Validation Accuracy = 0.960\n",
      "EPOCH 32 : Validation Accuracy = 0.958\n",
      "EPOCH 33 : Validation Accuracy = 0.961\n",
      "EPOCH 34 : Validation Accuracy = 0.957\n",
      "EPOCH 35 : Validation Accuracy = 0.958\n",
      "EPOCH 36 : Validation Accuracy = 0.954\n",
      "EPOCH 37 : Validation Accuracy = 0.955\n",
      "EPOCH 38 : Validation Accuracy = 0.958\n",
      "EPOCH 39 : Validation Accuracy = 0.955\n",
      "EPOCH 40 : Validation Accuracy = 0.956\n",
      "EPOCH 41 : Validation Accuracy = 0.958\n",
      "EPOCH 42 : Validation Accuracy = 0.952\n",
      "EPOCH 43 : Validation Accuracy = 0.953\n",
      "EPOCH 44 : Validation Accuracy = 0.961\n",
      "EPOCH 45 : Validation Accuracy = 0.956\n",
      "EPOCH 46 : Validation Accuracy = 0.958\n",
      "EPOCH 47 : Validation Accuracy = 0.962\n",
      "EPOCH 48 : Validation Accuracy = 0.958\n",
      "EPOCH 49 : Validation Accuracy = 0.957\n",
      "EPOCH 50 : Validation Accuracy = 0.963\n",
      "Model saved\n"
     ]
    },
    {
     "data": {
      "image/png": "[encoded data removed]",
      "text/plain": [
       "<Figure size 1080x864 with 1 Axes>"
      ]
     },
     "metadata": {
      "needs_background": "light"
     },
     "output_type": "display_data"
    },
    {
     "name": "stdout",
     "output_type": "stream",
     "text": [
      "Wall time: 37min 53s\n"
     ]
    }
   ],
   "source": [
    "%%time\n",
    "# 2min 7s\n",
    "train_losses = []\n",
    "valid_losses = []\n",
    "saver = tf.train.Saver()\n",
    "with tf.Session() as sess:\n",
    "    sess.run(tf.global_variables_initializer())\n",
    "    num_examples = len(X_train)\n",
    "\n",
    "    print(\"Training...\")\n",
    "    for i in range(EPOCHS):\n",
    "        X_train, y_train = shuffle(X_train, y_train)\n",
    "        print(\"EPOCH {} :\".format(i+1), end=' ')\n",
    "        for offset in range(0, num_examples, BATCH_SIZE):\n",
    "            end = offset + BATCH_SIZE\n",
    "            batch_x, batch_y = X_train[offset:end], y_train[offset:end]\n",
    "            _, train_loss = sess.run([training_operation, loss_operation], feed_dict={x: batch_x, y: batch_y, keep_prob: 0.5})\n",
    "            train_losses.append(train_loss)\n",
    "        validation_accuracy, valid_loss = evaluate(X_valid, y_valid)\n",
    "        print(\"Validation Accuracy = {:.3f}\".format(validation_accuracy))\n",
    "        valid_losses.append(valid_loss)\n",
    "                \n",
    "    saver.save(sess, './model/lenet.ckpt')\n",
    "    print(\"Model saved\")\n",
    "    \n",
    "plt.subplot(2, 1, 2)\n",
    "plt.plot(train_losses, label='train')\n",
    "plt.plot([(i+1) * int(num_examples / BATCH_SIZE) for i in range(EPOCHS)], valid_losses, label='val')\n",
    "plt.title('training and validation loss history')\n",
    "plt.xlabel('Epoch')\n",
    "plt.ylabel('Loss')\n",
    "plt.gcf().set_size_inches(15, 12)\n",
    "plt.legend()\n",
    "plt.show()"
   ]
  },
  {
   "cell_type": "markdown",
   "metadata": {},
   "source": [
    "# 4. Testing\n",
    "\n",
    "## 4.1 Test the model on testing dataset"
   ]
  },
  {
   "cell_type": "code",
   "execution_count": 7,
   "metadata": {},
   "outputs": [
    {
     "name": "stdout",
     "output_type": "stream",
     "text": [
      "INFO:tensorflow:Restoring parameters from ./model/lenet.ckpt\n"
     ]
    },
    {
     "data": {
      "image/png": "[encoded data removed]",
      "text/plain": [
       "<Figure size 432x288 with 1 Axes>"
      ]
     },
     "metadata": {
      "needs_background": "light"
     },
     "output_type": "display_data"
    }
   ],
   "source": [
    "with tf.Session() as sess:\n",
    "    saver.restore(sess, './model/lenet.ckpt')\n",
    "    train_accuracy,_ = evaluate(X_train, y_train)\n",
    "    valid_accuracy,_ = evaluate(X_valid, y_valid)\n",
    "    test_accuracy,_ = evaluate(X_test, y_test)\n",
    "    \n",
    "accuracys = [train_accuracy, valid_accuracy, test_accuracy]\n",
    "tick_labels = [\"training set\", \"validation set\", \"testing set\"]\n",
    "plt.bar(range(3), accuracys)\n",
    "plt.xlabel('data set')\n",
    "plt.ylabel('accuracy')\n",
    "plt.xticks(range(3), tick_labels)\n",
    "for x_,y_ in zip(range(3), accuracys):\n",
    "    plt.text(x_ - 0.1, y_, '%.3f'%y_)\n",
    "plt.show()"
   ]
  }
 ],
 "metadata": {
  "kernelspec": {
   "display_name": "Python 3",
   "language": "python",
   "name": "python3"
  },
  "language_info": {
   "codemirror_mode": {
    "name": "ipython",
    "version": 3
   },
   "file_extension": ".py",
   "mimetype": "text/x-python",
   "name": "python",
   "nbconvert_exporter": "python",
   "pygments_lexer": "ipython3",
   "version": "3.6.10"
  }
 },
 "nbformat": 4,
 "nbformat_minor": 4
}
