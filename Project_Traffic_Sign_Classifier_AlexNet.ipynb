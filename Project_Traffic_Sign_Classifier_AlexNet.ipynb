{
 "cells": [
  {
   "cell_type": "code",
   "execution_count": 1,
   "metadata": {},
   "outputs": [
    {
     "name": "stderr",
     "output_type": "stream",
     "text": [
      "d:\\self learning\\anaconda3\\envs\\tf1.4.0\\lib\\site-packages\\tensorflow\\python\\framework\\dtypes.py:469: FutureWarning: Passing (type, 1) or '1type' as a synonym of type is deprecated; in a future version of numpy, it will be understood as (type, (1,)) / '(1,)type'.\n",
      "  _np_qint8 = np.dtype([(\"qint8\", np.int8, 1)])\n",
      "d:\\self learning\\anaconda3\\envs\\tf1.4.0\\lib\\site-packages\\tensorflow\\python\\framework\\dtypes.py:470: FutureWarning: Passing (type, 1) or '1type' as a synonym of type is deprecated; in a future version of numpy, it will be understood as (type, (1,)) / '(1,)type'.\n",
      "  _np_quint8 = np.dtype([(\"quint8\", np.uint8, 1)])\n",
      "d:\\self learning\\anaconda3\\envs\\tf1.4.0\\lib\\site-packages\\tensorflow\\python\\framework\\dtypes.py:471: FutureWarning: Passing (type, 1) or '1type' as a synonym of type is deprecated; in a future version of numpy, it will be understood as (type, (1,)) / '(1,)type'.\n",
      "  _np_qint16 = np.dtype([(\"qint16\", np.int16, 1)])\n",
      "d:\\self learning\\anaconda3\\envs\\tf1.4.0\\lib\\site-packages\\tensorflow\\python\\framework\\dtypes.py:472: FutureWarning: Passing (type, 1) or '1type' as a synonym of type is deprecated; in a future version of numpy, it will be understood as (type, (1,)) / '(1,)type'.\n",
      "  _np_quint16 = np.dtype([(\"quint16\", np.uint16, 1)])\n",
      "d:\\self learning\\anaconda3\\envs\\tf1.4.0\\lib\\site-packages\\tensorflow\\python\\framework\\dtypes.py:473: FutureWarning: Passing (type, 1) or '1type' as a synonym of type is deprecated; in a future version of numpy, it will be understood as (type, (1,)) / '(1,)type'.\n",
      "  _np_qint32 = np.dtype([(\"qint32\", np.int32, 1)])\n",
      "d:\\self learning\\anaconda3\\envs\\tf1.4.0\\lib\\site-packages\\tensorflow\\python\\framework\\dtypes.py:476: FutureWarning: Passing (type, 1) or '1type' as a synonym of type is deprecated; in a future version of numpy, it will be understood as (type, (1,)) / '(1,)type'.\n",
      "  np_resource = np.dtype([(\"resource\", np.ubyte, 1)])\n"
     ]
    },
    {
     "name": "stdout",
     "output_type": "stream",
     "text": [
      "All modules imported.\n"
     ]
    }
   ],
   "source": [
    "import os\n",
    "import pickle\n",
    "import math\n",
    "import random\n",
    "import csv\n",
    "from PIL import Image\n",
    "\n",
    "import matplotlib.pyplot as plt\n",
    "import cv2\n",
    "import numpy as np\n",
    "import tensorflow as tf\n",
    "from sklearn.utils import shuffle\n",
    "from tensorflow.contrib.layers import flatten\n",
    "\n",
    "print('All modules imported.')"
   ]
  },
  {
   "cell_type": "markdown",
   "metadata": {},
   "source": [
    "# 1. Realod the preprocessed data\n"
   ]
  },
  {
   "cell_type": "code",
   "execution_count": 2,
   "metadata": {},
   "outputs": [
    {
     "name": "stdout",
     "output_type": "stream",
     "text": [
      "(34799, 32, 32, 3) (34799,)\n",
      "(4410, 32, 32, 3) (4410,)\n",
      "(12630, 32, 32, 3) (12630,)\n",
      "43\n",
      "Data loaded.\n"
     ]
    }
   ],
   "source": [
    "pickle_file = './pre-data.pickle'\n",
    "with open(pickle_file, 'rb') as f:\n",
    "    pickle_data = pickle.load(f)\n",
    "    X_train = pickle_data['train_features']\n",
    "    y_train = pickle_data['train_labels']\n",
    "    X_valid = pickle_data['valid_features']\n",
    "    y_valid = pickle_data['valid_labels']\n",
    "    X_test = pickle_data['test_features']\n",
    "    y_test = pickle_data['test_labels']\n",
    "    signnames = pickle_data['signnames']\n",
    "    del pickle_data  # Free up memory\n",
    "    \n",
    "# Shuffle the data set\n",
    "X_train, y_train = shuffle(X_train, y_train)\n",
    "X_valid, y_valid = shuffle(X_valid, y_valid)\n",
    "X_test, y_test = shuffle(X_test, y_test)\n",
    "\n",
    "print(X_train.shape, y_train.shape)\n",
    "print(X_valid.shape, y_valid.shape)\n",
    "print(X_test.shape, y_test.shape)\n",
    "print(len(signnames))\n",
    "print('Data loaded.')"
   ]
  },
  {
   "cell_type": "markdown",
   "metadata": {},
   "source": [
    "# 2. AlexNet Architecture\n"
   ]
  },
  {
   "cell_type": "code",
   "execution_count": 3,
   "metadata": {},
   "outputs": [],
   "source": [
    "def AlexNet(x,KEEP_PROB,LAMBDA):\n",
    "    # Arguments used for tf.truncated_normal, randomly defines variables for the weights and\n",
    "    # bias for each layer\n",
    "    \n",
    "    mu = 0 \n",
    "    sigma = 0.1\n",
    "    reg_loss = tf.zeros(1)\n",
    "    \n",
    "    # Conv1: Input = 32x32x3, Output = 28x28x9\n",
    "    # Convolutional\n",
    "    conv1_w = tf.Variable(tf.truncated_normal((5,5,3,9),mu,sigma))\n",
    "    conv1_b = tf.Variable(tf.zeros(9))\n",
    "    conv1 = tf.nn.conv2d(x,conv1_w,[1,1,1,1],'VALID') + conv1_b\n",
    "    # Actcivation \n",
    "    conv1 = tf.nn.relu(conv1)\n",
    "    # Pooling. Input = 28x28x9, output = 14x14x9\n",
    "    pool1 = tf.nn.max_pool(conv1,[1,2,2,1],[1,2,2,1],'VALID')\n",
    "    \n",
    "    # Conv2: Input = 14x14x9, output = 12x12x32\n",
    "    # Convolutional\n",
    "    conv2_w = tf.Variable(tf.truncated_normal((3,3,9,32),mu,sigma))\n",
    "    conv2_b = tf.Variable(tf.zeros(32))\n",
    "    conv2 = tf.nn.conv2d(pool1,conv2_w,[1,1,1,1],'VALID') + conv2_b\n",
    "    # Activation\n",
    "    conv2 = tf.nn.relu(conv2)\n",
    "    # Pooling. Input = 12x12x32, output = 6x6x32\n",
    "    pool2 = tf.nn.max_pool(conv2,[1,2,2,1],[1,2,2,1],'VALID')\n",
    "    \n",
    "    # Conv3: Input = 6x6x32, output = 6x6x48\n",
    "    # Convolutional \n",
    "    conv3_w = tf.Variable(tf.truncated_normal((3,3,32,48),mu,sigma))\n",
    "    conv3_b = tf.Variable(tf.zeros(48))\n",
    "    conv3 = tf.nn.conv2d(pool2,conv3_w,[1,1,1,1],'SAME') + conv3_b\n",
    "    # Activation\n",
    "    conv3 = tf.nn.relu(conv3)\n",
    "    \n",
    "    # Conv 4: Input = 6x6x48, Output = 6x6x64\n",
    "    # Convolutional \n",
    "    conv4_w = tf.Variable(tf.truncated_normal((3,3,48,64),mu,sigma))\n",
    "    conv4_b = tf.Variable(tf.zeros(64))\n",
    "    conv4 = tf.nn.conv2d(conv3,conv4_w,[1,1,1,1],'SAME') + conv4_b\n",
    "    # Activation \n",
    "    conv4 = tf.nn.relu(conv4)\n",
    "    \n",
    "    # Conv5: Input = 6x6x64, output = 6x6x96\n",
    "    # Convolutional \n",
    "    conv5_w = tf.Variable(tf.truncated_normal((3,3,64,96),mu,sigma))\n",
    "    conv5_b = tf.Variable(tf.zeros(96))\n",
    "    conv5 = tf.nn.conv2d(conv4,conv5_w,[1,1,1,1],'SAME') + conv5_b\n",
    "    # Activation\n",
    "    conv5 = tf.nn.relu(conv5)\n",
    "    # Pooling, Input = 6x6x96, Output = 3x3x96\n",
    "    pool3 = tf.nn.max_pool(conv5,[1,2,2,1],[1,2,2,1],'VALID')\n",
    "    \n",
    "    # Flatten, Input = 3x3x96, output = 864\n",
    "    flat = flatten(pool3)\n",
    "    \n",
    "    # full 1: Input = 864, Output = 400\n",
    "    # Fully connected layer\n",
    "    full1_w = tf.Variable(tf.truncated_normal((864,400),mu,sigma))\n",
    "    full1_b = tf.Variable(tf.zeros(400))\n",
    "    full1 = tf.matmul(flat,full1_w) + full1_b\n",
    "    # Activation\n",
    "    full1 = tf.nn.relu(full1)\n",
    "    # Dropout\n",
    "    full1 = tf.nn.dropout(full1,KEEP_PROB)\n",
    "    \n",
    "    # full 2: Input = 400, Output = 160\n",
    "    # Fully connected layer\n",
    "    full2_w = tf.Variable(tf.truncated_normal((400, 160), mu, sigma))\n",
    "    full2_b = tf.Variable(tf.zeros(160))\n",
    "    full2 = tf.matmul(full1, full2_w) + full2_b\n",
    "    # Activation.\n",
    "    full2 = tf.nn.relu(full2)\n",
    "    # Dropout\n",
    "    full2 = tf.nn.dropout(full2, KEEP_PROB)\n",
    "    \n",
    "    # output : Fully Connected. Input = 160. Output = 43.\n",
    "    full3_w = tf.Variable(tf.truncated_normal((160, 43), mu, sigma))\n",
    "    full3_b = tf.Variable(tf.zeros(43))\n",
    "    logits = tf.matmul(full2, full3_w) + full3_b\n",
    "\n",
    "    if LAMBDA != 0:\n",
    "        reg_loss = tf.nn.l2_loss(conv1_w) + tf.nn.l2_loss(conv2_w) + tf.nn.l2_loss(conv3_w) + tf.nn.l2_loss(conv4_w) + tf.nn.l2_loss(conv5_w) + tf.nn.l2_loss(full1_w) + tf.nn.l2_loss(full2_w) + tf.nn.l2_loss(full3_w)\n",
    "    \n",
    "    return logits, reg_loss"
   ]
  },
  {
   "cell_type": "markdown",
   "metadata": {},
   "source": [
    "# 3. Training\n",
    "## 3.1 Strategy\n",
    "#### learning rate decay: tf.train.exponential_decay(INITIAL_LEARNING_RATE, global_step=global_step, decay_steps=150, decay_rate=0.95) is used for decay learing rate, global_step increment after each step only when you give it to minimize(loss_op, global_step=global_step) as the global_step paramenter.\n"
   ]
  },
  {
   "cell_type": "code",
   "execution_count": 4,
   "metadata": {},
   "outputs": [],
   "source": [
    "# Placeholder\n",
    "x = tf.placeholder(tf.float32, (None, 32, 32, 3))\n",
    "y = tf.placeholder(tf.int32, (None))\n",
    "one_hot_y = tf.one_hot(y, 43)\n",
    "keep_prob = tf.placeholder_with_default(1.0, shape=())\n",
    "LAMBDA = tf.placeholder_with_default(0.0, shape=())\n",
    "\n",
    "# Hyperparameters\n",
    "LEARNING_RATE = 5e-4\n",
    "EPOCHS = 30\n",
    "BATCH_SIZE = 64\n",
    "\n",
    "# parameters for learning rate decay\n",
    "# global_step = tf.Variable(0, trainable=False)\n",
    "# LEARNING_RATE = tf.train.exponential_decay(1e-2, global_step=global_step, decay_steps=180, decay_rate=0.96)\n",
    "\n",
    "# Train method\n",
    "logits, reg_loss = AlexNet(x, keep_prob, LAMBDA)\n",
    "cross_entropy = tf.nn.softmax_cross_entropy_with_logits(labels=one_hot_y, logits=logits)\n",
    "loss_op = tf.reduce_mean(cross_entropy)\n",
    "# batch gradient descent optimizer\n",
    "# optimizer = tf.train.GradientDescentOptimizer(learning_rate = LEARNING_RATE)\n",
    "# Adam optimizer\n",
    "optimizer = tf.train.AdamOptimizer(learning_rate = LEARNING_RATE)\n",
    "# train_op = optimizer.minimize(loss_op, global_step=global_step)\n",
    "train_op = optimizer.minimize(loss_op)"
   ]
  },
  {
   "cell_type": "markdown",
   "metadata": {},
   "source": [
    "## 3.2 Evalution"
   ]
  },
  {
   "cell_type": "code",
   "execution_count": 5,
   "metadata": {},
   "outputs": [],
   "source": [
    "\n",
    "correct_prediction = tf.equal(tf.argmax(logits, 1), tf.argmax(one_hot_y, 1))\n",
    "accuracy_op = tf.reduce_mean(tf.cast(correct_prediction, tf.float32))\n",
    "\n",
    "def evaluate(X_data, y_data):\n",
    "    num_examples = len(X_data)\n",
    "    total_accuracy = 0\n",
    "    sess = tf.get_default_session()\n",
    "    for offset in range(0, num_examples, BATCH_SIZE):\n",
    "        batch_x, batch_y = X_data[offset:offset + BATCH_SIZE], y_data[offset:offset + BATCH_SIZE]\n",
    "        accuracy = sess.run(accuracy_op, feed_dict={x: batch_x, y: batch_y})\n",
    "        total_accuracy += (accuracy * len(batch_x))\n",
    "    return total_accuracy / num_examples"
   ]
  },
  {
   "cell_type": "markdown",
   "metadata": {},
   "source": [
    "## 3.3 Train the model"
   ]
  },
  {
   "cell_type": "markdown",
   "metadata": {},
   "source": [
    "A validation set can be used to assess how well the model is performing. \n",
    "\n",
    "A low accuracy on the training and validation sets imply **underfitting.** \n",
    "\n",
    "A high accuracy on the training set but low accuracy on validation set implies **overfitting.**\n",
    "\n",
    "**LAMBDA** controls the regulization degree, if LAMBDA is too large, the model will **underfitting**\n",
    "\n",
    "if LAMBDA is too small, the model will be **overfitting**\n"
   ]
  },
  {
   "cell_type": "code",
   "execution_count": 6,
   "metadata": {},
   "outputs": [
    {
     "name": "stdout",
     "output_type": "stream",
     "text": [
      "Training...\n",
      "EPOCH 1 : Valid Accuracy = 0.672\n",
      "EPOCH 2 : Valid Accuracy = 0.848\n",
      "EPOCH 3 : Valid Accuracy = 0.903\n",
      "EPOCH 4 : Valid Accuracy = 0.909\n",
      "EPOCH 5 : Valid Accuracy = 0.931\n",
      "EPOCH 6 : Valid Accuracy = 0.936\n",
      "EPOCH 7 : Valid Accuracy = 0.938\n",
      "EPOCH 8 : Valid Accuracy = 0.942\n",
      "EPOCH 9 : Valid Accuracy = 0.941\n",
      "EPOCH 10 : Valid Accuracy = 0.950\n",
      "EPOCH 11 : Valid Accuracy = 0.934\n",
      "EPOCH 12 : Valid Accuracy = 0.948\n",
      "EPOCH 13 : Valid Accuracy = 0.951\n",
      "EPOCH 14 : Valid Accuracy = 0.947\n",
      "EPOCH 15 : Valid Accuracy = 0.955\n",
      "EPOCH 16 : Valid Accuracy = 0.959\n",
      "EPOCH 17 : Valid Accuracy = 0.944\n",
      "EPOCH 18 : Valid Accuracy = 0.952\n",
      "EPOCH 19 : Valid Accuracy = 0.950\n",
      "EPOCH 20 : Valid Accuracy = 0.960\n",
      "EPOCH 21 : Valid Accuracy = 0.958\n",
      "EPOCH 22 : Valid Accuracy = 0.963\n",
      "EPOCH 23 : Valid Accuracy = 0.948\n",
      "EPOCH 24 : Valid Accuracy = 0.956\n",
      "EPOCH 25 : Valid Accuracy = 0.962\n",
      "EPOCH 26 : Valid Accuracy = 0.958\n",
      "EPOCH 27 : Valid Accuracy = 0.949\n",
      "EPOCH 28 : Valid Accuracy = 0.958\n",
      "EPOCH 29 : Valid Accuracy = 0.962\n",
      "EPOCH 30 : Valid Accuracy = 0.963\n",
      "Model saved\n",
      "Wall time: 38min 18s\n"
     ]
    }
   ],
   "source": [
    "%%time\n",
    "# 2min 7s\n",
    "train_accuracy = []\n",
    "valid_accuracy = []\n",
    "learning_rates = []\n",
    "saver = tf.train.Saver()\n",
    "with tf.Session() as sess:\n",
    "    sess.run(tf.global_variables_initializer())\n",
    "    num_examples = len(X_train)\n",
    "\n",
    "    print(\"Training...\")\n",
    "    for i in range(EPOCHS):\n",
    "        X_train, y_train = shuffle(X_train, y_train)\n",
    "        total_train_acc = 0\n",
    "        print(\"EPOCH {} :\".format(i+1), end=' ')\n",
    "        for offset in range(0, num_examples, BATCH_SIZE):# 34799 / BATCH_SIZE = 271\n",
    "            end = offset + BATCH_SIZE\n",
    "            batch_x, batch_y = X_train[offset:end], y_train[offset:end]\n",
    "            _, train_acc = sess.run([train_op, accuracy_op], feed_dict={x: batch_x, y: batch_y, keep_prob: 0.5, LAMBDA: 1e-5})\n",
    "#             _, train_acc, lr = sess.run([train_op, accuracy_op, LEARNING_RATE], feed_dict={x: batch_x, y: batch_y, keep_prob: 1.0})\n",
    "            total_train_acc += (train_acc * len(batch_x))\n",
    "        train_accuracy.append(total_train_acc / num_examples)\n",
    "        valid_acc = evaluate(X_valid, y_valid)\n",
    "        valid_accuracy.append(valid_acc)\n",
    "        print(\"Valid Accuracy = {:.3f}\".format(valid_acc))\n",
    "                \n",
    "    saver.save(sess, './model/alexnet.ckpt')\n",
    "    print(\"Model saved\")"
   ]
  },
  {
   "cell_type": "code",
   "execution_count": 7,
   "metadata": {},
   "outputs": [
    {
     "data": {
      "image/png": "[encoded data removed]",
      "text/plain": [
       "<Figure size 1080x1080 with 1 Axes>"
      ]
     },
     "metadata": {
      "needs_background": "light"
     },
     "output_type": "display_data"
    }
   ],
   "source": [
    "plt.subplot(2, 1, 2)\n",
    "plt.plot(train_accuracy, label='train')\n",
    "plt.plot(valid_accuracy, label='valid')\n",
    "plt.title('Accuracy history')\n",
    "plt.xlabel('Epoch')\n",
    "plt.ylabel('Loss')\n",
    "plt.gcf().set_size_inches(15, 15)\n",
    "plt.legend()\n",
    "plt.show()\n"
   ]
  },
  {
   "cell_type": "code",
   "execution_count": 10,
   "metadata": {},
   "outputs": [
    {
     "name": "stderr",
     "output_type": "stream",
     "text": [
      "No handles with labels found to put in legend.\n"
     ]
    },
    {
     "data": {
      "image/png": "[encoded data removed]",
      "text/plain": [
       "<Figure size 720x360 with 1 Axes>"
      ]
     },
     "metadata": {
      "needs_background": "light"
     },
     "output_type": "display_data"
    }
   ],
   "source": [
    "plt.plot(learning_rates)\n",
    "plt.title('learning rate history')\n",
    "plt.xlabel('Epoch')\n",
    "plt.ylabel('Learning rate')\n",
    "plt.gcf().set_size_inches(10, 5)\n",
    "plt.legend()\n",
    "plt.show()"
   ]
  },
  {
   "cell_type": "markdown",
   "metadata": {},
   "source": [
    "# 4. Testing \n",
    "## 4.1 Test the model on testing dataset"
   ]
  },
  {
   "cell_type": "code",
   "execution_count": 11,
   "metadata": {},
   "outputs": [
    {
     "name": "stdout",
     "output_type": "stream",
     "text": [
      "INFO:tensorflow:Restoring parameters from ./model/alexnet.ckpt\n"
     ]
    },
    {
     "data": {
      "image/png": "[encoded data removed]",
      "text/plain": [
       "<Figure size 432x288 with 1 Axes>"
      ]
     },
     "metadata": {
      "needs_background": "light"
     },
     "output_type": "display_data"
    }
   ],
   "source": [
    "with tf.Session() as sess:\n",
    "    saver.restore(sess, './model/alexnet.ckpt')\n",
    "    train_accuracy = evaluate(X_train, y_train)\n",
    "    valid_accuracy = evaluate(X_valid, y_valid)\n",
    "    test_accuracy = evaluate(X_test, y_test)\n",
    "    \n",
    "accuracys = [train_accuracy, valid_accuracy, test_accuracy]\n",
    "tick_labels = [\"training set\", \"validation set\", \"testing set\"]\n",
    "plt.bar(range(3), accuracys)\n",
    "plt.xlabel('data set')\n",
    "plt.ylabel('accuracy')\n",
    "plt.xticks(range(3), tick_labels)\n",
    "for x_,y_ in zip(range(3), accuracys):\n",
    "    plt.text(x_ - 0.1, y_, '%.3f'%y_)\n",
    "plt.show()"
   ]
  }
 ],
 "metadata": {
  "kernelspec": {
   "display_name": "Python 3",
   "language": "python",
   "name": "python3"
  },
  "language_info": {
   "codemirror_mode": {
    "name": "ipython",
    "version": 3
   },
   "file_extension": ".py",
   "mimetype": "text/x-python",
   "name": "python",
   "nbconvert_exporter": "python",
   "pygments_lexer": "ipython3",
   "version": "3.6.10"
  }
 },
 "nbformat": 4,
 "nbformat_minor": 4
}
